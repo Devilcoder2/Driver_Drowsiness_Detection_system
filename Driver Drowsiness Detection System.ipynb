{
 "cells": [
  {
   "cell_type": "code",
   "execution_count": 6,
   "id": "43421869",
   "metadata": {},
   "outputs": [
    {
     "name": "stdout",
     "output_type": "stream",
     "text": [
      "Collecting opencv-python\n",
      "  Using cached opencv_python-4.8.0.76-cp37-abi3-win_amd64.whl (38.1 MB)\n",
      "Requirement already satisfied: numpy>=1.17.0 in c:\\users\\hp\\anaconda3\\lib\\site-packages (from opencv-python) (1.23.5)\n",
      "Installing collected packages: opencv-python\n",
      "Successfully installed opencv-python-4.8.0.76\n",
      "Note: you may need to restart the kernel to use updated packages.\n"
     ]
    }
   ],
   "source": [
    "pip install opencv-python\n"
   ]
  },
  {
   "cell_type": "code",
   "execution_count": 8,
   "id": "f29c5e9d",
   "metadata": {},
   "outputs": [
    {
     "name": "stdout",
     "output_type": "stream",
     "text": [
      "Collecting dlibNote: you may need to restart the kernel to use updated packages.\n",
      "\n",
      "  Using cached dlib-19.24.2.tar.gz (11.8 MB)\n",
      "  Installing build dependencies: started\n",
      "  Installing build dependencies: finished with status 'done'\n",
      "  Getting requirements to build wheel: started\n",
      "  Getting requirements to build wheel: finished with status 'done'\n",
      "  Preparing metadata (pyproject.toml): started\n",
      "  Preparing metadata (pyproject.toml): finished with status 'done'\n",
      "Building wheels for collected packages: dlib\n",
      "  Building wheel for dlib (pyproject.toml): started\n",
      "  Building wheel for dlib (pyproject.toml): still running...\n",
      "  Building wheel for dlib (pyproject.toml): still running...\n",
      "  Building wheel for dlib (pyproject.toml): still running...\n",
      "  Building wheel for dlib (pyproject.toml): still running...\n",
      "  Building wheel for dlib (pyproject.toml): finished with status 'done'\n",
      "  Created wheel for dlib: filename=dlib-19.24.2-cp310-cp310-win_amd64.whl size=2846266 sha256=a2d8375aa0b3a1207363a643928aac20d0c1f80fa663c8bd3c82ba8c8dafb5bb\n",
      "  Stored in directory: c:\\users\\hp\\appdata\\local\\pip\\cache\\wheels\\bc\\19\\6e\\7461e0584c10c486b31b7d204a591d5e35812c13901ae93c24\n",
      "Successfully built dlib\n",
      "Installing collected packages: dlib\n",
      "Successfully installed dlib-19.24.2\n"
     ]
    }
   ],
   "source": [
    "pip install dlib"
   ]
  },
  {
   "cell_type": "code",
   "execution_count": 10,
   "id": "6cc4b3cb",
   "metadata": {},
   "outputs": [
    {
     "name": "stdout",
     "output_type": "stream",
     "text": [
      "Collecting imutils\n",
      "  Using cached imutils-0.5.4.tar.gz (17 kB)\n",
      "  Preparing metadata (setup.py): started\n",
      "  Preparing metadata (setup.py): finished with status 'done'\n",
      "Building wheels for collected packages: imutils\n",
      "  Building wheel for imutils (setup.py): started\n",
      "  Building wheel for imutils (setup.py): finished with status 'done'\n",
      "  Created wheel for imutils: filename=imutils-0.5.4-py3-none-any.whl size=25854 sha256=5d87ddc44d89a19fb56b46d774f402d4aae67aef368fbfed8ac34410b18ca548\n",
      "  Stored in directory: c:\\users\\hp\\appdata\\local\\pip\\cache\\wheels\\c2\\02\\32\\f3617a9f68bcc67eda3ebeb4514eba18f62e81ff439428109d\n",
      "Successfully built imutils\n",
      "Installing collected packages: imutils\n",
      "Successfully installed imutils-0.5.4\n",
      "Note: you may need to restart the kernel to use updated packages.\n"
     ]
    }
   ],
   "source": [
    "pip install imutils"
   ]
  },
  {
   "cell_type": "code",
   "execution_count": null,
   "id": "9dc98cf3",
   "metadata": {},
   "outputs": [],
   "source": [
    "from os.path import dirname, realpath, sep, pardir\n",
    "import sys\n",
    "sys.path.append(dirname(realpath(sys.executable)) + sep + pardir + sep + \"lib\")\n",
    "import cv2\n",
    "import numpy as np\n",
    "import dlib\n",
    "from imutils import face_utils\n",
    "\n",
    "cap = cv2.VideoCapture(0)\n",
    "\n",
    "detector = dlib.get_frontal_face_detector()\n",
    "predictor = dlib.shape_predictor(\"shape_predictor_68_face_landmarks.dat\")\n",
    "\n",
    "sleep = 0\n",
    "drowsy = 0\n",
    "active = 0\n",
    "status = \"\"\n",
    "color = (0,0,0)\n",
    "\n",
    "def compute(ptA, ptB):\n",
    "    return np.linalg.norm(ptA-ptB)\n",
    "\n",
    "def blinked(a,b,c,d,e,f):\n",
    "    up = compute(b,d) + compute(c,e)\n",
    "    down = compute(a,f)\n",
    "    ratio = up/(2.0*down)\n",
    "    \n",
    "    if(ratio > 0.25):\n",
    "        return 2\n",
    "    elif(ratio > 0.21 and ratio<=0.25):\n",
    "        return 1\n",
    "    else:\n",
    "        return 0\n",
    "\n",
    "\n",
    "while True:\n",
    "    rt, frame = cap.read()\n",
    "    gray = cv2.cvtColor(frame, cv2.COLOR_BGR2GRAY)\n",
    "    \n",
    "    faces = detector(gray)\n",
    "    \n",
    "    for face in faces:\n",
    "        x1 = face.left()\n",
    "        y1 = face.top()\n",
    "        x2 = face.right()\n",
    "        y2 = face.bottom()\n",
    "        \n",
    "        face_frame = frame.copy()\n",
    "        cv2.rectangle(face_frame, (x1,y1), (x2,y2), (0,255,0), 2)\n",
    "        \n",
    "        landmarks = predictor(gray,face)\n",
    "        landmarks = face_utils.shape_to_np(landmarks)\n",
    "        \n",
    "        left_blink = blinked(landmarks[36],landmarks[37],landmarks[38],landmarks[41],landmarks[40],landmarks[39])\n",
    "        right_blink = blinked(landmarks[42],landmarks[43],landmarks[44],landmarks[47],landmarks[46],landmarks[45])\n",
    "        \n",
    "        if(left_blink == 0 and right_blink == 0):\n",
    "            sleep+=1\n",
    "            drowsy=0\n",
    "            active=0\n",
    "            if(sleep>2):\n",
    "                status = \"SLEEPING !!\"\n",
    "                color = (255,0,0)\n",
    "        \n",
    "        elif(left_blink == 1 and right_blink == 1):\n",
    "            sleep=0\n",
    "            drowsy+=1\n",
    "            active=0\n",
    "            if(drowsy>2):\n",
    "                status = \"DROWSY !!\"\n",
    "                color = (0,0,255)\n",
    "                \n",
    "        else: \n",
    "            drowsy=0\n",
    "            sleep=0\n",
    "            active+=1\n",
    "            if(active>2):\n",
    "                status = \"ACTIVE !!\"\n",
    "                color = (0,255,0)\n",
    "            \n",
    "        \n",
    "        cv2.putText(frame,status,(100,100),cv2.FONT_HERSHEY_SIMPLEX,1.2,color,3)\n",
    "        \n",
    "        for n in range(0,68):\n",
    "            (x,y) = landmarks[n]\n",
    "            cv2.circle(face_frame,(x,y),1,(255,255,255),-1)\n",
    "    \n",
    "        cv2.imshow(\"Frame\",frame)\n",
    "        cv2.imshow(\"Result of detector\", face_frame)\n",
    "\n",
    "        key = cv2.waitKey(1)\n",
    "        if key == 27:\n",
    "            break\n",
    "\n"
   ]
  },
  {
   "cell_type": "code",
   "execution_count": null,
   "id": "bf083c23",
   "metadata": {},
   "outputs": [],
   "source": []
  },
  {
   "cell_type": "code",
   "execution_count": null,
   "id": "c68a2e70",
   "metadata": {},
   "outputs": [],
   "source": []
  }
 ],
 "metadata": {
  "kernelspec": {
   "display_name": "Python 3 (ipykernel)",
   "language": "python",
   "name": "python3"
  },
  "language_info": {
   "codemirror_mode": {
    "name": "ipython",
    "version": 3
   },
   "file_extension": ".py",
   "mimetype": "text/x-python",
   "name": "python",
   "nbconvert_exporter": "python",
   "pygments_lexer": "ipython3",
   "version": "3.10.9"
  }
 },
 "nbformat": 4,
 "nbformat_minor": 5
}
